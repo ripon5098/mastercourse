{
 "cells": [
  {
   "cell_type": "code",
   "execution_count": 1,
   "id": "e7bd7cfd",
   "metadata": {},
   "outputs": [],
   "source": [
    "import pandas as pd\n",
    "import numpy as np"
   ]
  },
  {
   "cell_type": "code",
   "execution_count": 2,
   "id": "c9ce1da2",
   "metadata": {},
   "outputs": [],
   "source": [
    "df = pd.read_csv(\"raw_data (1).csv\")"
   ]
  },
  {
   "cell_type": "code",
   "execution_count": 3,
   "id": "f3b28dea",
   "metadata": {},
   "outputs": [
    {
     "data": {
      "text/plain": [
       "(2564680, 8)"
      ]
     },
     "execution_count": 3,
     "metadata": {},
     "output_type": "execute_result"
    }
   ],
   "source": [
    "df.shape"
   ]
  },
  {
   "cell_type": "code",
   "execution_count": 4,
   "id": "7468c280",
   "metadata": {},
   "outputs": [
    {
     "data": {
      "text/html": [
       "<div>\n",
       "<style scoped>\n",
       "    .dataframe tbody tr th:only-of-type {\n",
       "        vertical-align: middle;\n",
       "    }\n",
       "\n",
       "    .dataframe tbody tr th {\n",
       "        vertical-align: top;\n",
       "    }\n",
       "\n",
       "    .dataframe thead th {\n",
       "        text-align: right;\n",
       "    }\n",
       "</style>\n",
       "<table border=\"1\" class=\"dataframe\">\n",
       "  <thead>\n",
       "    <tr style=\"text-align: right;\">\n",
       "      <th></th>\n",
       "      <th>id</th>\n",
       "      <th>gender</th>\n",
       "      <th>dob</th>\n",
       "      <th>income</th>\n",
       "      <th>marital_status</th>\n",
       "      <th>city</th>\n",
       "      <th>last_purchase_date</th>\n",
       "      <th>score</th>\n",
       "    </tr>\n",
       "  </thead>\n",
       "  <tbody>\n",
       "    <tr>\n",
       "      <th>0</th>\n",
       "      <td>660ba2ad-e4ba-4e56-bc36-8a2daa77dd23</td>\n",
       "      <td>Male</td>\n",
       "      <td>1977-05-19</td>\n",
       "      <td>46532</td>\n",
       "      <td>Single</td>\n",
       "      <td>Oklahoma City</td>\n",
       "      <td>2020-06-22</td>\n",
       "      <td>63</td>\n",
       "    </tr>\n",
       "    <tr>\n",
       "      <th>1</th>\n",
       "      <td>6da25e92-ad6a-458b-a9b9-0995e664d229</td>\n",
       "      <td>Female</td>\n",
       "      <td>2000-11-28</td>\n",
       "      <td>13734</td>\n",
       "      <td>Single</td>\n",
       "      <td>Columbus</td>\n",
       "      <td>08-04-2020</td>\n",
       "      <td>43</td>\n",
       "    </tr>\n",
       "    <tr>\n",
       "      <th>2</th>\n",
       "      <td>11261389-dce2-4912-bd48-e406288f2a8b</td>\n",
       "      <td>Female</td>\n",
       "      <td>1975-06-05</td>\n",
       "      <td>36282</td>\n",
       "      <td>Single</td>\n",
       "      <td>Miami</td>\n",
       "      <td>2022-08-21</td>\n",
       "      <td>882</td>\n",
       "    </tr>\n",
       "    <tr>\n",
       "      <th>3</th>\n",
       "      <td>c9f67b5a-fcbf-4da0-bf31-c8d2492013ca</td>\n",
       "      <td>Male</td>\n",
       "      <td>27-05-1992</td>\n",
       "      <td>83451</td>\n",
       "      <td>Divorced</td>\n",
       "      <td>Colorado Springs</td>\n",
       "      <td>18-12-2020</td>\n",
       "      <td>653</td>\n",
       "    </tr>\n",
       "    <tr>\n",
       "      <th>4</th>\n",
       "      <td>d3024d83-cbd1-481a-8e29-a37259107dfb</td>\n",
       "      <td>Female</td>\n",
       "      <td>1987-09-13</td>\n",
       "      <td>58351</td>\n",
       "      <td>NaN</td>\n",
       "      <td>New Orleans</td>\n",
       "      <td>2021-05-25</td>\n",
       "      <td>535</td>\n",
       "    </tr>\n",
       "  </tbody>\n",
       "</table>\n",
       "</div>"
      ],
      "text/plain": [
       "                                     id  gender         dob  income  \\\n",
       "0  660ba2ad-e4ba-4e56-bc36-8a2daa77dd23    Male  1977-05-19   46532   \n",
       "1  6da25e92-ad6a-458b-a9b9-0995e664d229  Female  2000-11-28   13734   \n",
       "2  11261389-dce2-4912-bd48-e406288f2a8b  Female  1975-06-05   36282   \n",
       "3  c9f67b5a-fcbf-4da0-bf31-c8d2492013ca    Male  27-05-1992   83451   \n",
       "4  d3024d83-cbd1-481a-8e29-a37259107dfb  Female  1987-09-13   58351   \n",
       "\n",
       "  marital_status              city last_purchase_date  score  \n",
       "0         Single     Oklahoma City         2020-06-22     63  \n",
       "1         Single          Columbus         08-04-2020     43  \n",
       "2         Single             Miami         2022-08-21    882  \n",
       "3       Divorced  Colorado Springs         18-12-2020    653  \n",
       "4            NaN       New Orleans         2021-05-25    535  "
      ]
     },
     "execution_count": 4,
     "metadata": {},
     "output_type": "execute_result"
    }
   ],
   "source": [
    "df.head()"
   ]
  },
  {
   "cell_type": "code",
   "execution_count": 5,
   "id": "64e7a08b",
   "metadata": {},
   "outputs": [
    {
     "data": {
      "text/plain": [
       "id                         0\n",
       "gender                234849\n",
       "dob                        0\n",
       "income                     0\n",
       "marital_status        285195\n",
       "city                   51187\n",
       "last_purchase_date         0\n",
       "score                      0\n",
       "dtype: int64"
      ]
     },
     "execution_count": 5,
     "metadata": {},
     "output_type": "execute_result"
    }
   ],
   "source": [
    "df.isna().sum()"
   ]
  },
  {
   "cell_type": "code",
   "execution_count": 7,
   "id": "a9f3fb72",
   "metadata": {},
   "outputs": [
    {
     "data": {
      "text/plain": [
       "2464680"
      ]
     },
     "execution_count": 7,
     "metadata": {},
     "output_type": "execute_result"
    }
   ],
   "source": [
    "df.duplicated().sum()"
   ]
  },
  {
   "cell_type": "code",
   "execution_count": 10,
   "id": "25fa9eba",
   "metadata": {},
   "outputs": [],
   "source": [
    "df = df.drop_duplicates()"
   ]
  },
  {
   "cell_type": "code",
   "execution_count": 11,
   "id": "2cc2109c",
   "metadata": {},
   "outputs": [
    {
     "data": {
      "text/html": [
       "<div>\n",
       "<style scoped>\n",
       "    .dataframe tbody tr th:only-of-type {\n",
       "        vertical-align: middle;\n",
       "    }\n",
       "\n",
       "    .dataframe tbody tr th {\n",
       "        vertical-align: top;\n",
       "    }\n",
       "\n",
       "    .dataframe thead th {\n",
       "        text-align: right;\n",
       "    }\n",
       "</style>\n",
       "<table border=\"1\" class=\"dataframe\">\n",
       "  <thead>\n",
       "    <tr style=\"text-align: right;\">\n",
       "      <th></th>\n",
       "      <th>id</th>\n",
       "      <th>gender</th>\n",
       "      <th>dob</th>\n",
       "      <th>income</th>\n",
       "      <th>marital_status</th>\n",
       "      <th>city</th>\n",
       "      <th>last_purchase_date</th>\n",
       "      <th>score</th>\n",
       "    </tr>\n",
       "  </thead>\n",
       "  <tbody>\n",
       "    <tr>\n",
       "      <th>0</th>\n",
       "      <td>660ba2ad-e4ba-4e56-bc36-8a2daa77dd23</td>\n",
       "      <td>Male</td>\n",
       "      <td>1977-05-19</td>\n",
       "      <td>46532</td>\n",
       "      <td>Single</td>\n",
       "      <td>Oklahoma City</td>\n",
       "      <td>2020-06-22</td>\n",
       "      <td>63</td>\n",
       "    </tr>\n",
       "    <tr>\n",
       "      <th>1</th>\n",
       "      <td>6da25e92-ad6a-458b-a9b9-0995e664d229</td>\n",
       "      <td>Female</td>\n",
       "      <td>2000-11-28</td>\n",
       "      <td>13734</td>\n",
       "      <td>Single</td>\n",
       "      <td>Columbus</td>\n",
       "      <td>08-04-2020</td>\n",
       "      <td>43</td>\n",
       "    </tr>\n",
       "    <tr>\n",
       "      <th>2</th>\n",
       "      <td>11261389-dce2-4912-bd48-e406288f2a8b</td>\n",
       "      <td>Female</td>\n",
       "      <td>1975-06-05</td>\n",
       "      <td>36282</td>\n",
       "      <td>Single</td>\n",
       "      <td>Miami</td>\n",
       "      <td>2022-08-21</td>\n",
       "      <td>882</td>\n",
       "    </tr>\n",
       "    <tr>\n",
       "      <th>3</th>\n",
       "      <td>c9f67b5a-fcbf-4da0-bf31-c8d2492013ca</td>\n",
       "      <td>Male</td>\n",
       "      <td>27-05-1992</td>\n",
       "      <td>83451</td>\n",
       "      <td>Divorced</td>\n",
       "      <td>Colorado Springs</td>\n",
       "      <td>18-12-2020</td>\n",
       "      <td>653</td>\n",
       "    </tr>\n",
       "    <tr>\n",
       "      <th>4</th>\n",
       "      <td>d3024d83-cbd1-481a-8e29-a37259107dfb</td>\n",
       "      <td>Female</td>\n",
       "      <td>1987-09-13</td>\n",
       "      <td>58351</td>\n",
       "      <td>NaN</td>\n",
       "      <td>New Orleans</td>\n",
       "      <td>2021-05-25</td>\n",
       "      <td>535</td>\n",
       "    </tr>\n",
       "    <tr>\n",
       "      <th>...</th>\n",
       "      <td>...</td>\n",
       "      <td>...</td>\n",
       "      <td>...</td>\n",
       "      <td>...</td>\n",
       "      <td>...</td>\n",
       "      <td>...</td>\n",
       "      <td>...</td>\n",
       "      <td>...</td>\n",
       "    </tr>\n",
       "    <tr>\n",
       "      <th>861286</th>\n",
       "      <td>5716106a-8d4e-4e6f-9e84-d328747829b9</td>\n",
       "      <td>Female</td>\n",
       "      <td>1986-10-23</td>\n",
       "      <td>13986</td>\n",
       "      <td>Married</td>\n",
       "      <td>Las Vegas</td>\n",
       "      <td>07-11-2013</td>\n",
       "      <td>97</td>\n",
       "    </tr>\n",
       "    <tr>\n",
       "      <th>878293</th>\n",
       "      <td>cd28ebf2-7044-4a48-888f-3bf1b1d0c78e</td>\n",
       "      <td>Male</td>\n",
       "      <td>1976-10-12</td>\n",
       "      <td>69519</td>\n",
       "      <td>Divorced</td>\n",
       "      <td>Omaha</td>\n",
       "      <td>2011-08-03</td>\n",
       "      <td>1000</td>\n",
       "    </tr>\n",
       "    <tr>\n",
       "      <th>903223</th>\n",
       "      <td>59e2af4b-f282-4998-97f5-1bb70542633d</td>\n",
       "      <td>Female</td>\n",
       "      <td>05-04-1979</td>\n",
       "      <td>97057</td>\n",
       "      <td>Divorced</td>\n",
       "      <td>Tucson</td>\n",
       "      <td>04-01-2016</td>\n",
       "      <td>579</td>\n",
       "    </tr>\n",
       "    <tr>\n",
       "      <th>980974</th>\n",
       "      <td>4409db67-1df6-4080-b279-54740e79bceb</td>\n",
       "      <td>Male</td>\n",
       "      <td>1974-05-12</td>\n",
       "      <td>42351</td>\n",
       "      <td>NaN</td>\n",
       "      <td>Austin</td>\n",
       "      <td>2012-07-22</td>\n",
       "      <td>666</td>\n",
       "    </tr>\n",
       "    <tr>\n",
       "      <th>984525</th>\n",
       "      <td>ff4d610e-ced0-444c-bbb6-60086fea6f0f</td>\n",
       "      <td>Female</td>\n",
       "      <td>1994-10-23</td>\n",
       "      <td>69935</td>\n",
       "      <td>Single</td>\n",
       "      <td>Portland</td>\n",
       "      <td>2022-09-04</td>\n",
       "      <td>839</td>\n",
       "    </tr>\n",
       "  </tbody>\n",
       "</table>\n",
       "<p>100000 rows × 8 columns</p>\n",
       "</div>"
      ],
      "text/plain": [
       "                                          id  gender         dob  income  \\\n",
       "0       660ba2ad-e4ba-4e56-bc36-8a2daa77dd23    Male  1977-05-19   46532   \n",
       "1       6da25e92-ad6a-458b-a9b9-0995e664d229  Female  2000-11-28   13734   \n",
       "2       11261389-dce2-4912-bd48-e406288f2a8b  Female  1975-06-05   36282   \n",
       "3       c9f67b5a-fcbf-4da0-bf31-c8d2492013ca    Male  27-05-1992   83451   \n",
       "4       d3024d83-cbd1-481a-8e29-a37259107dfb  Female  1987-09-13   58351   \n",
       "...                                      ...     ...         ...     ...   \n",
       "861286  5716106a-8d4e-4e6f-9e84-d328747829b9  Female  1986-10-23   13986   \n",
       "878293  cd28ebf2-7044-4a48-888f-3bf1b1d0c78e    Male  1976-10-12   69519   \n",
       "903223  59e2af4b-f282-4998-97f5-1bb70542633d  Female  05-04-1979   97057   \n",
       "980974  4409db67-1df6-4080-b279-54740e79bceb    Male  1974-05-12   42351   \n",
       "984525  ff4d610e-ced0-444c-bbb6-60086fea6f0f  Female  1994-10-23   69935   \n",
       "\n",
       "       marital_status              city last_purchase_date  score  \n",
       "0              Single     Oklahoma City         2020-06-22     63  \n",
       "1              Single          Columbus         08-04-2020     43  \n",
       "2              Single             Miami         2022-08-21    882  \n",
       "3            Divorced  Colorado Springs         18-12-2020    653  \n",
       "4                 NaN       New Orleans         2021-05-25    535  \n",
       "...               ...               ...                ...    ...  \n",
       "861286        Married         Las Vegas         07-11-2013     97  \n",
       "878293       Divorced             Omaha         2011-08-03   1000  \n",
       "903223       Divorced            Tucson         04-01-2016    579  \n",
       "980974            NaN            Austin         2012-07-22    666  \n",
       "984525         Single          Portland         2022-09-04    839  \n",
       "\n",
       "[100000 rows x 8 columns]"
      ]
     },
     "execution_count": 11,
     "metadata": {},
     "output_type": "execute_result"
    }
   ],
   "source": [
    "df"
   ]
  },
  {
   "cell_type": "code",
   "execution_count": 13,
   "id": "83064b11",
   "metadata": {},
   "outputs": [
    {
     "data": {
      "text/plain": [
       "id                        0\n",
       "gender                 9150\n",
       "dob                       0\n",
       "income                    0\n",
       "marital_status        11131\n",
       "city                   2002\n",
       "last_purchase_date        0\n",
       "score                     0\n",
       "dtype: int64"
      ]
     },
     "execution_count": 13,
     "metadata": {},
     "output_type": "execute_result"
    }
   ],
   "source": [
    "df.isna().sum()"
   ]
  },
  {
   "cell_type": "code",
   "execution_count": 14,
   "id": "95d04992",
   "metadata": {},
   "outputs": [],
   "source": [
    "from scipy import stats"
   ]
  },
  {
   "cell_type": "code",
   "execution_count": 18,
   "id": "a5391afa",
   "metadata": {},
   "outputs": [
    {
     "data": {
      "text/plain": [
       "ModeResult(mode=array(['Male'], dtype=object), count=array([45587]))"
      ]
     },
     "execution_count": 18,
     "metadata": {},
     "output_type": "execute_result"
    }
   ],
   "source": [
    "stats.mode(df.gender)"
   ]
  },
  {
   "cell_type": "code",
   "execution_count": 20,
   "id": "17c8631c",
   "metadata": {},
   "outputs": [],
   "source": [
    "df.gender=df.gender.fillna('Male')"
   ]
  },
  {
   "cell_type": "code",
   "execution_count": 23,
   "id": "29dda7b5",
   "metadata": {},
   "outputs": [
    {
     "data": {
      "text/plain": [
       "0"
      ]
     },
     "execution_count": 23,
     "metadata": {},
     "output_type": "execute_result"
    }
   ],
   "source": [
    "df.gender.isna().sum()"
   ]
  },
  {
   "cell_type": "code",
   "execution_count": 24,
   "id": "4e139450",
   "metadata": {},
   "outputs": [
    {
     "data": {
      "text/plain": [
       "ModeResult(mode=array(['Divorced'], dtype=object), count=array([22231]))"
      ]
     },
     "execution_count": 24,
     "metadata": {},
     "output_type": "execute_result"
    }
   ],
   "source": [
    "stats.mode(df.marital_status)"
   ]
  },
  {
   "cell_type": "code",
   "execution_count": 26,
   "id": "44153b11",
   "metadata": {},
   "outputs": [],
   "source": [
    "df.marital_status = df.marital_status.fillna('Divorced')"
   ]
  },
  {
   "cell_type": "code",
   "execution_count": 29,
   "id": "f36877e9",
   "metadata": {},
   "outputs": [
    {
     "data": {
      "text/plain": [
       "0"
      ]
     },
     "execution_count": 29,
     "metadata": {},
     "output_type": "execute_result"
    }
   ],
   "source": [
    "df.marital_status.isna().sum()"
   ]
  },
  {
   "cell_type": "code",
   "execution_count": 30,
   "id": "8f9b4447",
   "metadata": {},
   "outputs": [
    {
     "data": {
      "text/plain": [
       "ModeResult(mode=array(['Baltimore'], dtype=object), count=array([2098]))"
      ]
     },
     "execution_count": 30,
     "metadata": {},
     "output_type": "execute_result"
    }
   ],
   "source": [
    "stats.mode(df.city)"
   ]
  },
  {
   "cell_type": "code",
   "execution_count": 32,
   "id": "22d11e7a",
   "metadata": {},
   "outputs": [],
   "source": [
    "df.city = df.city.fillna('Baltimore')"
   ]
  },
  {
   "cell_type": "code",
   "execution_count": 33,
   "id": "db9c3583",
   "metadata": {},
   "outputs": [
    {
     "data": {
      "text/plain": [
       "0"
      ]
     },
     "execution_count": 33,
     "metadata": {},
     "output_type": "execute_result"
    }
   ],
   "source": [
    "df.city.isna().sum()"
   ]
  },
  {
   "cell_type": "code",
   "execution_count": 34,
   "id": "7c00b197",
   "metadata": {},
   "outputs": [
    {
     "data": {
      "text/plain": [
       "id                    0\n",
       "gender                0\n",
       "dob                   0\n",
       "income                0\n",
       "marital_status        0\n",
       "city                  0\n",
       "last_purchase_date    0\n",
       "score                 0\n",
       "dtype: int64"
      ]
     },
     "execution_count": 34,
     "metadata": {},
     "output_type": "execute_result"
    }
   ],
   "source": [
    "df.isna().sum()"
   ]
  },
  {
   "cell_type": "code",
   "execution_count": 37,
   "id": "0b39da2a",
   "metadata": {},
   "outputs": [
    {
     "data": {
      "text/html": [
       "<div>\n",
       "<style scoped>\n",
       "    .dataframe tbody tr th:only-of-type {\n",
       "        vertical-align: middle;\n",
       "    }\n",
       "\n",
       "    .dataframe tbody tr th {\n",
       "        vertical-align: top;\n",
       "    }\n",
       "\n",
       "    .dataframe thead th {\n",
       "        text-align: right;\n",
       "    }\n",
       "</style>\n",
       "<table border=\"1\" class=\"dataframe\">\n",
       "  <thead>\n",
       "    <tr style=\"text-align: right;\">\n",
       "      <th></th>\n",
       "      <th>id</th>\n",
       "      <th>gender</th>\n",
       "      <th>dob</th>\n",
       "      <th>income</th>\n",
       "      <th>marital_status</th>\n",
       "      <th>city</th>\n",
       "      <th>last_purchase_date</th>\n",
       "      <th>score</th>\n",
       "      <th>income_group</th>\n",
       "    </tr>\n",
       "  </thead>\n",
       "  <tbody>\n",
       "    <tr>\n",
       "      <th>0</th>\n",
       "      <td>660ba2ad-e4ba-4e56-bc36-8a2daa77dd23</td>\n",
       "      <td>Male</td>\n",
       "      <td>1977-05-19</td>\n",
       "      <td>46532</td>\n",
       "      <td>Single</td>\n",
       "      <td>Oklahoma City</td>\n",
       "      <td>2020-06-22</td>\n",
       "      <td>63</td>\n",
       "      <td>Medium</td>\n",
       "    </tr>\n",
       "    <tr>\n",
       "      <th>1</th>\n",
       "      <td>6da25e92-ad6a-458b-a9b9-0995e664d229</td>\n",
       "      <td>Female</td>\n",
       "      <td>2000-11-28</td>\n",
       "      <td>13734</td>\n",
       "      <td>Single</td>\n",
       "      <td>Columbus</td>\n",
       "      <td>08-04-2020</td>\n",
       "      <td>43</td>\n",
       "      <td>Low</td>\n",
       "    </tr>\n",
       "    <tr>\n",
       "      <th>2</th>\n",
       "      <td>11261389-dce2-4912-bd48-e406288f2a8b</td>\n",
       "      <td>Female</td>\n",
       "      <td>1975-06-05</td>\n",
       "      <td>36282</td>\n",
       "      <td>Single</td>\n",
       "      <td>Miami</td>\n",
       "      <td>2022-08-21</td>\n",
       "      <td>882</td>\n",
       "      <td>Medium</td>\n",
       "    </tr>\n",
       "    <tr>\n",
       "      <th>3</th>\n",
       "      <td>c9f67b5a-fcbf-4da0-bf31-c8d2492013ca</td>\n",
       "      <td>Male</td>\n",
       "      <td>27-05-1992</td>\n",
       "      <td>83451</td>\n",
       "      <td>Divorced</td>\n",
       "      <td>Colorado Springs</td>\n",
       "      <td>18-12-2020</td>\n",
       "      <td>653</td>\n",
       "      <td>High</td>\n",
       "    </tr>\n",
       "    <tr>\n",
       "      <th>4</th>\n",
       "      <td>d3024d83-cbd1-481a-8e29-a37259107dfb</td>\n",
       "      <td>Female</td>\n",
       "      <td>1987-09-13</td>\n",
       "      <td>58351</td>\n",
       "      <td>Divorced</td>\n",
       "      <td>New Orleans</td>\n",
       "      <td>2021-05-25</td>\n",
       "      <td>535</td>\n",
       "      <td>Medium</td>\n",
       "    </tr>\n",
       "  </tbody>\n",
       "</table>\n",
       "</div>"
      ],
      "text/plain": [
       "                                     id  gender         dob  income  \\\n",
       "0  660ba2ad-e4ba-4e56-bc36-8a2daa77dd23    Male  1977-05-19   46532   \n",
       "1  6da25e92-ad6a-458b-a9b9-0995e664d229  Female  2000-11-28   13734   \n",
       "2  11261389-dce2-4912-bd48-e406288f2a8b  Female  1975-06-05   36282   \n",
       "3  c9f67b5a-fcbf-4da0-bf31-c8d2492013ca    Male  27-05-1992   83451   \n",
       "4  d3024d83-cbd1-481a-8e29-a37259107dfb  Female  1987-09-13   58351   \n",
       "\n",
       "  marital_status              city last_purchase_date  score income_group  \n",
       "0         Single     Oklahoma City         2020-06-22     63       Medium  \n",
       "1         Single          Columbus         08-04-2020     43          Low  \n",
       "2         Single             Miami         2022-08-21    882       Medium  \n",
       "3       Divorced  Colorado Springs         18-12-2020    653         High  \n",
       "4       Divorced       New Orleans         2021-05-25    535       Medium  "
      ]
     },
     "execution_count": 37,
     "metadata": {},
     "output_type": "execute_result"
    }
   ],
   "source": [
    "# Calculate the percentiles\n",
    "p33, p66 = df['income'].quantile([0.33, 0.66])\n",
    "\n",
    "# Define the function to categorize income\n",
    "def income_group(x):\n",
    "    if x <= p33:\n",
    "        return 'Low'\n",
    "    elif x <= p66:\n",
    "        return 'Medium'\n",
    "    else:\n",
    "        return 'High'\n",
    "\n",
    "# Apply the function to create the income_group column\n",
    "df['income_group'] = df['income'].apply(income_group)\n",
    "\n",
    "# Print the first 5 rows of the updated dataset\n",
    "df.head()"
   ]
  },
  {
   "cell_type": "code",
   "execution_count": 39,
   "id": "688f6198",
   "metadata": {},
   "outputs": [
    {
     "data": {
      "text/html": [
       "<div>\n",
       "<style scoped>\n",
       "    .dataframe tbody tr th:only-of-type {\n",
       "        vertical-align: middle;\n",
       "    }\n",
       "\n",
       "    .dataframe tbody tr th {\n",
       "        vertical-align: top;\n",
       "    }\n",
       "\n",
       "    .dataframe thead th {\n",
       "        text-align: right;\n",
       "    }\n",
       "</style>\n",
       "<table border=\"1\" class=\"dataframe\">\n",
       "  <thead>\n",
       "    <tr style=\"text-align: right;\">\n",
       "      <th></th>\n",
       "      <th>id</th>\n",
       "      <th>gender</th>\n",
       "      <th>dob</th>\n",
       "      <th>income</th>\n",
       "      <th>marital_status</th>\n",
       "      <th>city</th>\n",
       "      <th>last_purchase_date</th>\n",
       "      <th>score</th>\n",
       "      <th>income_group</th>\n",
       "      <th>score_group</th>\n",
       "    </tr>\n",
       "  </thead>\n",
       "  <tbody>\n",
       "    <tr>\n",
       "      <th>0</th>\n",
       "      <td>660ba2ad-e4ba-4e56-bc36-8a2daa77dd23</td>\n",
       "      <td>Male</td>\n",
       "      <td>1977-05-19</td>\n",
       "      <td>46532</td>\n",
       "      <td>Single</td>\n",
       "      <td>Oklahoma City</td>\n",
       "      <td>2020-06-22</td>\n",
       "      <td>63</td>\n",
       "      <td>Medium</td>\n",
       "      <td>Poor</td>\n",
       "    </tr>\n",
       "    <tr>\n",
       "      <th>1</th>\n",
       "      <td>6da25e92-ad6a-458b-a9b9-0995e664d229</td>\n",
       "      <td>Female</td>\n",
       "      <td>2000-11-28</td>\n",
       "      <td>13734</td>\n",
       "      <td>Single</td>\n",
       "      <td>Columbus</td>\n",
       "      <td>08-04-2020</td>\n",
       "      <td>43</td>\n",
       "      <td>Low</td>\n",
       "      <td>Poor</td>\n",
       "    </tr>\n",
       "    <tr>\n",
       "      <th>2</th>\n",
       "      <td>11261389-dce2-4912-bd48-e406288f2a8b</td>\n",
       "      <td>Female</td>\n",
       "      <td>1975-06-05</td>\n",
       "      <td>36282</td>\n",
       "      <td>Single</td>\n",
       "      <td>Miami</td>\n",
       "      <td>2022-08-21</td>\n",
       "      <td>882</td>\n",
       "      <td>Medium</td>\n",
       "      <td>Good</td>\n",
       "    </tr>\n",
       "    <tr>\n",
       "      <th>3</th>\n",
       "      <td>c9f67b5a-fcbf-4da0-bf31-c8d2492013ca</td>\n",
       "      <td>Male</td>\n",
       "      <td>27-05-1992</td>\n",
       "      <td>83451</td>\n",
       "      <td>Divorced</td>\n",
       "      <td>Colorado Springs</td>\n",
       "      <td>18-12-2020</td>\n",
       "      <td>653</td>\n",
       "      <td>High</td>\n",
       "      <td>Fair</td>\n",
       "    </tr>\n",
       "    <tr>\n",
       "      <th>4</th>\n",
       "      <td>d3024d83-cbd1-481a-8e29-a37259107dfb</td>\n",
       "      <td>Female</td>\n",
       "      <td>1987-09-13</td>\n",
       "      <td>58351</td>\n",
       "      <td>Divorced</td>\n",
       "      <td>New Orleans</td>\n",
       "      <td>2021-05-25</td>\n",
       "      <td>535</td>\n",
       "      <td>Medium</td>\n",
       "      <td>Fair</td>\n",
       "    </tr>\n",
       "  </tbody>\n",
       "</table>\n",
       "</div>"
      ],
      "text/plain": [
       "                                     id  gender         dob  income  \\\n",
       "0  660ba2ad-e4ba-4e56-bc36-8a2daa77dd23    Male  1977-05-19   46532   \n",
       "1  6da25e92-ad6a-458b-a9b9-0995e664d229  Female  2000-11-28   13734   \n",
       "2  11261389-dce2-4912-bd48-e406288f2a8b  Female  1975-06-05   36282   \n",
       "3  c9f67b5a-fcbf-4da0-bf31-c8d2492013ca    Male  27-05-1992   83451   \n",
       "4  d3024d83-cbd1-481a-8e29-a37259107dfb  Female  1987-09-13   58351   \n",
       "\n",
       "  marital_status              city last_purchase_date  score income_group  \\\n",
       "0         Single     Oklahoma City         2020-06-22     63       Medium   \n",
       "1         Single          Columbus         08-04-2020     43          Low   \n",
       "2         Single             Miami         2022-08-21    882       Medium   \n",
       "3       Divorced  Colorado Springs         18-12-2020    653         High   \n",
       "4       Divorced       New Orleans         2021-05-25    535       Medium   \n",
       "\n",
       "  score_group  \n",
       "0        Poor  \n",
       "1        Poor  \n",
       "2        Good  \n",
       "3        Fair  \n",
       "4        Fair  "
      ]
     },
     "execution_count": 39,
     "metadata": {},
     "output_type": "execute_result"
    }
   ],
   "source": [
    "# Calculate the percentiles\n",
    "p33, p66 = df['score'].quantile([0.33, 0.66])\n",
    "\n",
    "# Define the function to categorize score\n",
    "def score_group(x):\n",
    "    if x <= p33:\n",
    "        return 'Poor'\n",
    "    elif x <= p66:\n",
    "        return 'Fair'\n",
    "    else:\n",
    "        return 'Good'\n",
    "\n",
    "# Apply the function to create the score_group column\n",
    "df['score_group'] = df['score'].apply(score_group)\n",
    "\n",
    "# Print the first 5 rows of the updated dataset\n",
    "df.head()"
   ]
  },
  {
   "cell_type": "code",
   "execution_count": 40,
   "id": "208a654a",
   "metadata": {},
   "outputs": [],
   "source": [
    "# Convert last_purchase_date to datetime format\n",
    "df['last_purchase_date'] = pd.to_datetime(df['last_purchase_date'])\n",
    "\n",
    "# Filter out rows where last_purchase_date is before 2019\n",
    "df = df[df['last_purchase_date'].dt.year >= 2019]"
   ]
  },
  {
   "cell_type": "code",
   "execution_count": 41,
   "id": "6fe9a0d0",
   "metadata": {},
   "outputs": [
    {
     "data": {
      "text/html": [
       "<div>\n",
       "<style scoped>\n",
       "    .dataframe tbody tr th:only-of-type {\n",
       "        vertical-align: middle;\n",
       "    }\n",
       "\n",
       "    .dataframe tbody tr th {\n",
       "        vertical-align: top;\n",
       "    }\n",
       "\n",
       "    .dataframe thead th {\n",
       "        text-align: right;\n",
       "    }\n",
       "</style>\n",
       "<table border=\"1\" class=\"dataframe\">\n",
       "  <thead>\n",
       "    <tr style=\"text-align: right;\">\n",
       "      <th></th>\n",
       "      <th>id</th>\n",
       "      <th>gender</th>\n",
       "      <th>dob</th>\n",
       "      <th>income</th>\n",
       "      <th>marital_status</th>\n",
       "      <th>city</th>\n",
       "      <th>last_purchase_date</th>\n",
       "      <th>score</th>\n",
       "      <th>income_group</th>\n",
       "      <th>score_group</th>\n",
       "    </tr>\n",
       "  </thead>\n",
       "  <tbody>\n",
       "    <tr>\n",
       "      <th>0</th>\n",
       "      <td>660ba2ad-e4ba-4e56-bc36-8a2daa77dd23</td>\n",
       "      <td>Male</td>\n",
       "      <td>1977-05-19</td>\n",
       "      <td>46532</td>\n",
       "      <td>Single</td>\n",
       "      <td>Oklahoma City</td>\n",
       "      <td>2020-06-22</td>\n",
       "      <td>63</td>\n",
       "      <td>Medium</td>\n",
       "      <td>Poor</td>\n",
       "    </tr>\n",
       "    <tr>\n",
       "      <th>1</th>\n",
       "      <td>6da25e92-ad6a-458b-a9b9-0995e664d229</td>\n",
       "      <td>Female</td>\n",
       "      <td>2000-11-28</td>\n",
       "      <td>13734</td>\n",
       "      <td>Single</td>\n",
       "      <td>Columbus</td>\n",
       "      <td>2020-08-04</td>\n",
       "      <td>43</td>\n",
       "      <td>Low</td>\n",
       "      <td>Poor</td>\n",
       "    </tr>\n",
       "    <tr>\n",
       "      <th>2</th>\n",
       "      <td>11261389-dce2-4912-bd48-e406288f2a8b</td>\n",
       "      <td>Female</td>\n",
       "      <td>1975-06-05</td>\n",
       "      <td>36282</td>\n",
       "      <td>Single</td>\n",
       "      <td>Miami</td>\n",
       "      <td>2022-08-21</td>\n",
       "      <td>882</td>\n",
       "      <td>Medium</td>\n",
       "      <td>Good</td>\n",
       "    </tr>\n",
       "    <tr>\n",
       "      <th>3</th>\n",
       "      <td>c9f67b5a-fcbf-4da0-bf31-c8d2492013ca</td>\n",
       "      <td>Male</td>\n",
       "      <td>27-05-1992</td>\n",
       "      <td>83451</td>\n",
       "      <td>Divorced</td>\n",
       "      <td>Colorado Springs</td>\n",
       "      <td>2020-12-18</td>\n",
       "      <td>653</td>\n",
       "      <td>High</td>\n",
       "      <td>Fair</td>\n",
       "    </tr>\n",
       "    <tr>\n",
       "      <th>4</th>\n",
       "      <td>d3024d83-cbd1-481a-8e29-a37259107dfb</td>\n",
       "      <td>Female</td>\n",
       "      <td>1987-09-13</td>\n",
       "      <td>58351</td>\n",
       "      <td>Divorced</td>\n",
       "      <td>New Orleans</td>\n",
       "      <td>2021-05-25</td>\n",
       "      <td>535</td>\n",
       "      <td>Medium</td>\n",
       "      <td>Fair</td>\n",
       "    </tr>\n",
       "    <tr>\n",
       "      <th>...</th>\n",
       "      <td>...</td>\n",
       "      <td>...</td>\n",
       "      <td>...</td>\n",
       "      <td>...</td>\n",
       "      <td>...</td>\n",
       "      <td>...</td>\n",
       "      <td>...</td>\n",
       "      <td>...</td>\n",
       "      <td>...</td>\n",
       "      <td>...</td>\n",
       "    </tr>\n",
       "    <tr>\n",
       "      <th>768670</th>\n",
       "      <td>3362e8f4-149e-4419-bba2-5314757ee067</td>\n",
       "      <td>Male</td>\n",
       "      <td>02-03-1986</td>\n",
       "      <td>95681</td>\n",
       "      <td>Divorced</td>\n",
       "      <td>Oklahoma City</td>\n",
       "      <td>2019-03-08</td>\n",
       "      <td>763</td>\n",
       "      <td>High</td>\n",
       "      <td>Good</td>\n",
       "    </tr>\n",
       "    <tr>\n",
       "      <th>776513</th>\n",
       "      <td>c545c90f-2ae6-4f32-9ed3-f91ecd3c79f1</td>\n",
       "      <td>Male</td>\n",
       "      <td>04-03-1978</td>\n",
       "      <td>71123</td>\n",
       "      <td>Widowed</td>\n",
       "      <td>El Paso</td>\n",
       "      <td>2020-09-03</td>\n",
       "      <td>198</td>\n",
       "      <td>High</td>\n",
       "      <td>Poor</td>\n",
       "    </tr>\n",
       "    <tr>\n",
       "      <th>790824</th>\n",
       "      <td>948606d1-e20e-4f9a-b945-2f010bdc3dca</td>\n",
       "      <td>Male</td>\n",
       "      <td>21-11-2000</td>\n",
       "      <td>90608</td>\n",
       "      <td>Single</td>\n",
       "      <td>Dallas</td>\n",
       "      <td>2019-01-03</td>\n",
       "      <td>674</td>\n",
       "      <td>High</td>\n",
       "      <td>Good</td>\n",
       "    </tr>\n",
       "    <tr>\n",
       "      <th>815434</th>\n",
       "      <td>55fc0c01-ef0f-4678-8a93-02a985109e2c</td>\n",
       "      <td>Male</td>\n",
       "      <td>1989-03-11</td>\n",
       "      <td>57674</td>\n",
       "      <td>Divorced</td>\n",
       "      <td>Indianapolis</td>\n",
       "      <td>2019-11-21</td>\n",
       "      <td>131</td>\n",
       "      <td>Medium</td>\n",
       "      <td>Poor</td>\n",
       "    </tr>\n",
       "    <tr>\n",
       "      <th>984525</th>\n",
       "      <td>ff4d610e-ced0-444c-bbb6-60086fea6f0f</td>\n",
       "      <td>Female</td>\n",
       "      <td>1994-10-23</td>\n",
       "      <td>69935</td>\n",
       "      <td>Single</td>\n",
       "      <td>Portland</td>\n",
       "      <td>2022-09-04</td>\n",
       "      <td>839</td>\n",
       "      <td>High</td>\n",
       "      <td>Good</td>\n",
       "    </tr>\n",
       "  </tbody>\n",
       "</table>\n",
       "<p>30947 rows × 10 columns</p>\n",
       "</div>"
      ],
      "text/plain": [
       "                                          id  gender         dob  income  \\\n",
       "0       660ba2ad-e4ba-4e56-bc36-8a2daa77dd23    Male  1977-05-19   46532   \n",
       "1       6da25e92-ad6a-458b-a9b9-0995e664d229  Female  2000-11-28   13734   \n",
       "2       11261389-dce2-4912-bd48-e406288f2a8b  Female  1975-06-05   36282   \n",
       "3       c9f67b5a-fcbf-4da0-bf31-c8d2492013ca    Male  27-05-1992   83451   \n",
       "4       d3024d83-cbd1-481a-8e29-a37259107dfb  Female  1987-09-13   58351   \n",
       "...                                      ...     ...         ...     ...   \n",
       "768670  3362e8f4-149e-4419-bba2-5314757ee067    Male  02-03-1986   95681   \n",
       "776513  c545c90f-2ae6-4f32-9ed3-f91ecd3c79f1    Male  04-03-1978   71123   \n",
       "790824  948606d1-e20e-4f9a-b945-2f010bdc3dca    Male  21-11-2000   90608   \n",
       "815434  55fc0c01-ef0f-4678-8a93-02a985109e2c    Male  1989-03-11   57674   \n",
       "984525  ff4d610e-ced0-444c-bbb6-60086fea6f0f  Female  1994-10-23   69935   \n",
       "\n",
       "       marital_status              city last_purchase_date  score  \\\n",
       "0              Single     Oklahoma City         2020-06-22     63   \n",
       "1              Single          Columbus         2020-08-04     43   \n",
       "2              Single             Miami         2022-08-21    882   \n",
       "3            Divorced  Colorado Springs         2020-12-18    653   \n",
       "4            Divorced       New Orleans         2021-05-25    535   \n",
       "...               ...               ...                ...    ...   \n",
       "768670       Divorced     Oklahoma City         2019-03-08    763   \n",
       "776513        Widowed           El Paso         2020-09-03    198   \n",
       "790824         Single            Dallas         2019-01-03    674   \n",
       "815434       Divorced      Indianapolis         2019-11-21    131   \n",
       "984525         Single          Portland         2022-09-04    839   \n",
       "\n",
       "       income_group score_group  \n",
       "0            Medium        Poor  \n",
       "1               Low        Poor  \n",
       "2            Medium        Good  \n",
       "3              High        Fair  \n",
       "4            Medium        Fair  \n",
       "...             ...         ...  \n",
       "768670         High        Good  \n",
       "776513         High        Poor  \n",
       "790824         High        Good  \n",
       "815434       Medium        Poor  \n",
       "984525         High        Good  \n",
       "\n",
       "[30947 rows x 10 columns]"
      ]
     },
     "execution_count": 41,
     "metadata": {},
     "output_type": "execute_result"
    }
   ],
   "source": [
    "df"
   ]
  },
  {
   "cell_type": "code",
   "execution_count": null,
   "id": "70537d46",
   "metadata": {},
   "outputs": [],
   "source": []
  }
 ],
 "metadata": {
  "kernelspec": {
   "display_name": "Python 3 (ipykernel)",
   "language": "python",
   "name": "python3"
  },
  "language_info": {
   "codemirror_mode": {
    "name": "ipython",
    "version": 3
   },
   "file_extension": ".py",
   "mimetype": "text/x-python",
   "name": "python",
   "nbconvert_exporter": "python",
   "pygments_lexer": "ipython3",
   "version": "3.9.7"
  }
 },
 "nbformat": 4,
 "nbformat_minor": 5
}
